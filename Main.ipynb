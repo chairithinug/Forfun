{
 "cells": [
  {
   "cell_type": "code",
   "execution_count": 1,
   "metadata": {},
   "outputs": [],
   "source": [
    "import pandas as pd\n",
    "import matplotlib.pyplot as plt\n",
    "import ipywidgets as widgets\n",
    "from IPython.display import display"
   ]
  },
  {
   "cell_type": "code",
   "execution_count": 2,
   "metadata": {},
   "outputs": [],
   "source": [
    "df = pd.read_excel('./Grading_jaundice.xlsx',index_col=0)"
   ]
  },
  {
   "cell_type": "code",
   "execution_count": 3,
   "metadata": {},
   "outputs": [],
   "source": [
    "def getGude(b):\n",
    "    plt.figure(figsize=(15,10))\n",
    "    plt.scatter(pa.value, sb.value, s=80, color='red', label='You are here!')\n",
    "    plt.plot(df.index, df['Low'], '--', label='Low')\n",
    "    plt.plot(df.index, df['Low Intermediate'], '--', label='Low Intermediate')\n",
    "    plt.plot(df.index, df['High intermediate'], '--',label='High intermediate')\n",
    "    plt.ylabel('Serum Bilirubin (mg/dl)')\n",
    "    plt.xlabel('Postnatal Age (hours)')\n",
    "    plt.title('Neonatal Jaundice Graph')\n",
    "    plt.xticks(df.index)\n",
    "    plt.legend()\n",
    "    plt.grid()\n",
    "    plt.show()"
   ]
  },
  {
   "cell_type": "code",
   "execution_count": 5,
   "metadata": {},
   "outputs": [
    {
     "data": {
      "application/vnd.jupyter.widget-view+json": {
       "model_id": "29bc68bbe34345c2921d9a067413aa6f",
       "version_major": 2,
       "version_minor": 0
      },
      "text/plain": [
       "FloatText(value=0.0, description='Serum Bilirubin (mg/dl)', layout=Layout(height='40px', width='auto'))"
      ]
     },
     "metadata": {},
     "output_type": "display_data"
    },
    {
     "data": {
      "application/vnd.jupyter.widget-view+json": {
       "model_id": "d1ca702e62d94ee4815eb661bac8844d",
       "version_major": 2,
       "version_minor": 0
      },
      "text/plain": [
       "FloatText(value=0.0, description='Postnatal Age (hours)', layout=Layout(height='40px', width='auto'))"
      ]
     },
     "metadata": {},
     "output_type": "display_data"
    },
    {
     "data": {
      "application/vnd.jupyter.widget-view+json": {
       "model_id": "df7035d7382341a6af2ee9ef7b8b484f",
       "version_major": 2,
       "version_minor": 0
      },
      "text/plain": [
       "Button(description='Do me a favor!', style=ButtonStyle())"
      ]
     },
     "metadata": {},
     "output_type": "display_data"
    }
   ],
   "source": [
    "layout = widgets.Layout(width='auto', height='40px')\n",
    "sb = widgets.FloatText(description='Serum Bilirubin (mg/dl)')\n",
    "display(sb)\n",
    "pa = widgets.FloatText(description='Postnatal Age (hours)')\n",
    "display(pa)\n",
    "btn = widgets.Button(description='Do me a favor!')\n",
    "btn.on_click(getGude)\n",
    "display(btn)"
   ]
  },
  {
   "cell_type": "code",
   "execution_count": null,
   "metadata": {},
   "outputs": [],
   "source": []
  }
 ],
 "metadata": {
  "kernelspec": {
   "display_name": "Python 3",
   "language": "python",
   "name": "python3"
  },
  "language_info": {
   "codemirror_mode": {
    "name": "ipython",
    "version": 3
   },
   "file_extension": ".py",
   "mimetype": "text/x-python",
   "name": "python",
   "nbconvert_exporter": "python",
   "pygments_lexer": "ipython3",
   "version": "3.7.7"
  }
 },
 "nbformat": 4,
 "nbformat_minor": 4
}
