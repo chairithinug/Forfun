{
 "cells": [
  {
   "cell_type": "code",
   "execution_count": 109,
   "metadata": {},
   "outputs": [
    {
     "data": {
      "application/vnd.jupyter.widget-view+json": {
       "model_id": "be0b39a5bc24408fb5b657b3cff1c659",
       "version_major": 2,
       "version_minor": 0
      },
      "text/plain": [
       "HBox(children=(Label(value='Serum Bilirubin (mg/dl): '), FloatText(value=0.0), Label(value='Postnatal Age (hou…"
      ]
     },
     "metadata": {},
     "output_type": "display_data"
    },
    {
     "data": {
      "application/vnd.jupyter.widget-view+json": {
       "model_id": "0d543ca9ab9542318e88ee6997cd2db9",
       "version_major": 2,
       "version_minor": 0
      },
      "text/plain": [
       "Button(description='Do me a favor!', style=ButtonStyle())"
      ]
     },
     "metadata": {},
     "output_type": "display_data"
    },
    {
     "data": {
      "application/vnd.jupyter.widget-view+json": {
       "model_id": "a3f6b09a4eb14318801a14758d7d463b",
       "version_major": 2,
       "version_minor": 0
      },
      "text/plain": [
       "Label(value='')"
      ]
     },
     "metadata": {},
     "output_type": "display_data"
    },
    {
     "data": {
      "application/vnd.jupyter.widget-view+json": {
       "model_id": "8aae003cf0e9434e89ead4a42d93e26f",
       "version_major": 2,
       "version_minor": 0
      },
      "text/plain": [
       "Output()"
      ]
     },
     "metadata": {},
     "output_type": "display_data"
    }
   ],
   "source": [
    "%matplotlib inline\n",
    "\n",
    "import numpy as np\n",
    "import pandas as pd\n",
    "import matplotlib.pyplot as plt\n",
    "import ipywidgets as widgets\n",
    "from IPython.display import display\n",
    "\n",
    "def get_lin_coeff(col):\n",
    "    coeffs = [(0, 0)]\n",
    "    pts = zip(df.index, df[col])\n",
    "    pt1 = next(pts)\n",
    "    for pt in pts:\n",
    "        m, b = linear_eq(pt1, pt)\n",
    "        coeffs.append((m, b))\n",
    "#         print(pt1[0], pt[0])\n",
    "#         plt.plot(np.arange(pt1[0], pt[0]+1), m*np.arange(pt1[0], pt[0]+1) + b)\n",
    "#         print(f'{m:.3}x + {b:.3}')\n",
    "        pt1 = pt\n",
    "    coeffs[0] = coeffs[1]\n",
    "    return coeffs\n",
    "\n",
    "def linear_eq(pt1, pt2):\n",
    "    x1, y1 = pt1\n",
    "    x2, y2 = pt2\n",
    "    m = (y2 - y1) / (x2 - x1)\n",
    "    b = y1 - m * x1\n",
    "    return np.round(m, 5), np.round(b, 5)\n",
    "\n",
    "def get_zone(sb, pa):\n",
    "    interval = np.where(df.index <= pa)[0][-1]\n",
    "#     print(interval)\n",
    "    \n",
    "    l_coeff = df['Low Coeff'].iloc[interval]\n",
    "    li_coeff = df['Low Intermediate Coeff'].iloc[interval]\n",
    "    hi_coeff = df['High Intermediate Coeff'].iloc[interval]\n",
    "    \n",
    "#     print(l_coeff, li_coeff, hi_coeff)\n",
    "    \n",
    "    upper_l = l_coeff[0] * pa + l_coeff[1]\n",
    "    upper_li = li_coeff[0] * pa + li_coeff[1]\n",
    "    upper_hi = hi_coeff[0] * pa + hi_coeff[1]\n",
    "    \n",
    "    ok_l = sb < upper_l\n",
    "    ok_li = sb < upper_li\n",
    "    ok_hi = sb < upper_hi\n",
    "#     print(upper_l, upper_li, upper_hi)\n",
    "#     print(ok_l, ok_li, ok_hi)\n",
    "    if ok_l and ok_li and ok_hi:\n",
    "        msg = 'Low Risk Zone'\n",
    "    elif ok_li and ok_hi:\n",
    "        msg = 'Low Intermediate Risk Zone'\n",
    "    elif ok_hi:\n",
    "        msg = 'High Intermediate Risk Zone'\n",
    "    else:\n",
    "        msg = 'High Risk Zone'\n",
    "    return 'Suggestion: ' + msg\n",
    "\n",
    "def gitGud(b):\n",
    "    out.clear_output()\n",
    "    if not (0 <= sb.value):\n",
    "        stat.value = 'ERROR: Serum Bilirubin (mg/dl) must be a non-negative real number.'\n",
    "        return\n",
    "    if not (12 <= pa.value <= 144):\n",
    "        stat.value = 'ERROR: Postnatal Age (hours) must be between 12 and 144 hours, inclusive.'\n",
    "        return\n",
    "    stat.value = get_zone(sb.value, pa.value)\n",
    "    \n",
    "    plt.figure(figsize=(15,8))\n",
    "    plt.scatter(pa.value, sb.value, s=80, color='red', label='You are here!')\n",
    "    plt.plot(df.index, df['Low'], '--', label='Low')\n",
    "    plt.plot(df.index, df['Low Intermediate'], '--', label='Low Intermediate')\n",
    "    plt.plot(df.index, df['High Intermediate'], '--',label='High Intermediate')\n",
    "    plt.ylabel('Serum Bilirubin (mg/dl)',fontsize=15)\n",
    "    plt.xlabel('Postnatal Age (hours)',fontsize=15)\n",
    "    plt.title('Neonatal Jaundice Graph',fontsize=20)\n",
    "    plt.xticks(df.index)\n",
    "    plt.legend()\n",
    "    plt.grid()\n",
    "    with out:\n",
    "        plt.show()\n",
    "\n",
    "if __name__ == \"__main__\":\n",
    "    df = pd.read_excel('./Grading_jaundice.xlsx', index_col=0)\n",
    "    df['Low Coeff'] = get_lin_coeff('Low')\n",
    "    df['Low Intermediate Coeff'] = get_lin_coeff('Low Intermediate')\n",
    "    df['High Intermediate Coeff'] = get_lin_coeff('High Intermediate')\n",
    "    \n",
    "    sb = widgets.FloatText()\n",
    "    pa = widgets.FloatText(value=12)\n",
    "    btn = widgets.Button(description='Do me a favor!')\n",
    "    btn.on_click(gitGud)\n",
    "    \n",
    "    box_sb = widgets.HBox([widgets.Label(value='Serum Bilirubin (mg/dl): '), sb, widgets.Label(value='Postnatal Age (hours): '), pa])\n",
    "    stat = widgets.Label()\n",
    "    out = widgets.Output()\n",
    "    \n",
    "    display(box_sb)\n",
    "    display(btn)\n",
    "    display(stat)\n",
    "    display(out)"
   ]
  },
  {
   "cell_type": "code",
   "execution_count": null,
   "metadata": {},
   "outputs": [],
   "source": []
  }
 ],
 "metadata": {
  "kernelspec": {
   "display_name": "Python 3",
   "language": "python",
   "name": "python3"
  },
  "language_info": {
   "codemirror_mode": {
    "name": "ipython",
    "version": 3
   },
   "file_extension": ".py",
   "mimetype": "text/x-python",
   "name": "python",
   "nbconvert_exporter": "python",
   "pygments_lexer": "ipython3",
   "version": "3.7.11"
  }
 },
 "nbformat": 4,
 "nbformat_minor": 4
}
