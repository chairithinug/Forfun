{
 "cells": [
  {
   "cell_type": "code",
   "execution_count": null,
   "metadata": {},
   "outputs": [],
   "source": [
    "%matplotlib inline\n",
    "import pandas as pd\n",
    "import matplotlib.pyplot as plt\n",
    "import ipywidgets as widgets\n",
    "from IPython.display import display\n",
    "\n",
    "df = pd.read_excel('./Grading_jaundice.xlsx',index_col=0)\n",
    "\n",
    "def gitGud(b):\n",
    "    plt.figure(figsize=(10,5))\n",
    "    plt.scatter(pa.value, sb.value, s=80, color='red', label='You are here!')\n",
    "    plt.plot(df.index, df['Low'], '--', label='Low')\n",
    "    plt.plot(df.index, df['Low Intermediate'], '--', label='Low Intermediate')\n",
    "    plt.plot(df.index, df['High Intermediate'], '--',label='High Intermediate')\n",
    "    plt.ylabel('Serum Bilirubin (mg/dl)')\n",
    "    plt.xlabel('Postnatal Age (hours)')\n",
    "    plt.title('Neonatal Jaundice Graph')\n",
    "    plt.xticks(df.index)\n",
    "    plt.legend()\n",
    "    plt.grid()\n",
    "    with out:\n",
    "        out.clear_output()\n",
    "        plt.show()\n",
    "        \n",
    "        \n",
    "layout = widgets.Layout(width='auto', height='40px')\n",
    "sb = widgets.FloatText(description='Serum Bilirubin (mg/dl)')\n",
    "display(sb)\n",
    "pa = widgets.FloatText(description='Postnatal Age (hours)')\n",
    "display(pa)\n",
    "btn = widgets.Button(description='Do me a favor!')\n",
    "btn.on_click(gitGud)\n",
    "display(btn)\n",
    "out = widgets.Output()\n",
    "display(out)"
   ]
  },
  {
   "cell_type": "code",
   "execution_count": null,
   "metadata": {},
   "outputs": [],
   "source": []
  }
 ],
 "metadata": {
  "kernelspec": {
   "display_name": "Python 3",
   "language": "python",
   "name": "python3"
  },
  "language_info": {
   "codemirror_mode": {
    "name": "ipython",
    "version": 3
   },
   "file_extension": ".py",
   "mimetype": "text/x-python",
   "name": "python",
   "nbconvert_exporter": "python",
   "pygments_lexer": "ipython3",
   "version": "3.7.11"
  }
 },
 "nbformat": 4,
 "nbformat_minor": 4
}
